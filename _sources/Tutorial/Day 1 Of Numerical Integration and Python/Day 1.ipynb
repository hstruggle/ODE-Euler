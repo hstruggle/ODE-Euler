{
  "nbformat": 4,
  "nbformat_minor": 0,
  "metadata": {
    "kernelspec": {
      "display_name": "Python 3",
      "language": "python",
      "name": "python3"
    },
    "language_info": {
      "codemirror_mode": {
        "name": "ipython",
        "version": 3
      },
      "file_extension": ".py",
      "mimetype": "text/x-python",
      "name": "python",
      "nbconvert_exporter": "python",
      "pygments_lexer": "ipython3",
      "version": "3.7.6"
    },
    "latex_envs": {
      "LaTeX_envs_menu_present": true,
      "autoclose": false,
      "autocomplete": true,
      "bibliofile": "biblio.bib",
      "cite_by": "apalike",
      "current_citInitial": 1,
      "eqLabelWithNumbers": true,
      "eqNumInitial": 1,
      "hotkeys": {
        "equation": "Ctrl-E",
        "itemize": "Ctrl-I"
      },
      "labels_anchors": false,
      "latex_user_defs": false,
      "report_style_numbering": false,
      "user_envs_cfg": false
    },
    "colab": {
      "name": "Day 1.ipynb",
      "provenance": []
    }
  },
  "cells": [
    {
      "cell_type": "markdown",
      "metadata": {
        "id": "PGS6ZdzEUjWe"
      },
      "source": [
        "<a href=\"https://colab.research.google.com/github/neurorishika/PSST/blob/master/Tutorial/Day%201%20Of%20Numerical%20Integration%20and%20Python/Day%201.ipynb\" target=\"_parent\"><img src=\"https://colab.research.google.com/assets/colab-badge.svg\" alt=\"Open In Colab\"/></a> &nbsp; <a href=\"https://kaggle.com/kernels/welcome?src=https://raw.githubusercontent.com/neurorishika/PSST/master/Tutorial/Day%201%20Of%20Numerical%20Integration%20and%20Python/Day%201.ipynb\" target=\"_parent\"><img src=\"https://kaggle.com/static/images/open-in-kaggle.svg\" alt=\"Open in Kaggle\"/></a>"
      ]
    },
    {
      "cell_type": "markdown",
      "metadata": {
        "id": "J_wjYwM0TEFp"
      },
      "source": [
        "## Day 1: Of Numerical Integration and Python\n",
        "\n",
        "Welcome to Day 1! Today, we start with our discussion of Numerical Integration."
      ]
    },
    {
      "cell_type": "markdown",
      "metadata": {
        "id": "ytfH8D34TEFq"
      },
      "source": [
        "### What is Numerical Integration?\n",
        "\n",
        "$$\\frac{dx}{dt} = f(x, t)$$\n",
        "where, $x$ is an $N-$dimensional vector and $t$ typically stands for time. The function $f(x,t)$ may be a nonlinear function of $x$ that explicitly depends on $t$. In addition to specifying the form of the differential equation, one must also specify the value of $x$ at a particular time point. Say, $x=x_{0}$ at $t = t_0$. It is often not possible to derive a closed form solution for this equation. Therefore numerical methods to solve these equations are of great importance. \n",
        "\n",
        "#### Euler's Method for Numerical Integration\n",
        "\n",
        "We use Euler's Method to generate a numerical solution to an initial value problem of the form:\n",
        "\n",
        "$$\\frac{dx}{dt} = f(x, t)$$\n",
        "$$x(t_o) = x_o$$\n",
        "\n",
        "Firstly, we decide the interval over which we desire to find the solution, starting at the initial condition. We break this interval into small subdivisions of a fixed length $\\epsilon$. Then, using the initial condition as our starting point, we generate the rest of the solution by using the iterative formulas:\n",
        "\n",
        "$$t_{n+1} = t_n + \\epsilon$$\n",
        "$$x_{n+1} = x_n + \\epsilon f(x_n, t_n)$$\n",
        "\n",
        "to find the coordinates of the points in our numerical solution. We end this process once we have reached the end of the desired interval.\n",
        "\n",
        "The best way to understand how it works is from the following diagram:\n",
        "\n",
        "<img src=\"https://raw.githubusercontent.com/neurorishika/PSST/master/Tutorial/Day%201%20Of%20Numerical%20Integration%20and%20Python/euler.svg\" width=\"600\"/>\n",
        "\n",
        "#### Euler's Method in Python\n",
        "Let $\\frac{dx}{dt}=f(x,t)$, we want to find $x(t)$ over $t\\in[0,2)$, given that $x(0)=1$ and $f(x,t) = 5x$. The exact solution of this equation would be $x(t) = e^{5t}$.\n"
      ]
    },
    {
      "cell_type": "code",
      "metadata": {
        "id": "CBCF9Ao9TEFr",
        "colab": {
          "base_uri": "https://localhost:8080/",
          "height": 279
        },
        "outputId": "968e1cb7-ce64-4a56-c6aa-875465a17ede"
      },
      "source": [
        "import numpy as np\n",
        "import matplotlib.pyplot as plt\n",
        "%matplotlib inline\n",
        "\n",
        "def f(x,t): # define the function f(x,t)\n",
        "    return 5*x\n",
        "\n",
        "epsilon = 0.01 # define timestep\n",
        "\n",
        "t = np.arange(0,2,epsilon) # define an array for t\n",
        "x = np.zeros(t.shape) # define an array for x\n",
        "\n",
        "x[0]= 1 # set initial condition\n",
        "\n",
        "for i in range(1,t.shape[0]):\n",
        "    x[i] = epsilon*f(x[i-1],t[i-1])+x[i-1] # Euler Integration Step\n",
        "\n",
        "plt.plot(t[::5],x[::5],\".\",label=\"Eulers Solution\")\n",
        "plt.plot(t,np.exp(5*t),label=\"Exact Solution\")\n",
        "plt.xlabel(\"t\")\n",
        "plt.ylabel(\"x\")\n",
        "plt.legend()\n",
        "plt.show()"
      ],
      "execution_count": null,
      "outputs": [
        {
          "output_type": "display_data",
          "data": {
            "image/png": "[encoded data removed]",
            "text/plain": [
              "<Figure size 432x288 with 1 Axes>"
            ]
          },
          "metadata": {
            "needs_background": "light"
          }
        }
      ]
    },
    {
      "cell_type": "markdown",
      "metadata": {
        "id": "JUeebAdMTEFt"
      },
      "source": [
        "#### Euler and Vectors\n",
        "\n",
        "Euler's Method also applies to vectors and can solve simultaneous differential equations.\n",
        "\n",
        "The Initial Value problem now becomes:\n",
        "\n",
        "$$\\frac{d\\vec{X}}{dt} = \\vec{f}(\\vec{X}, t)$$\n",
        "$$\\vec{X}(t_o) = \\vec{X_o}$$\n",
        "\n",
        "where $\\vec{X}=[X_1,X_2...]$ and $\\vec{f}(\\vec{X}, t)=[f_1(\\vec{X}, t),f_2(\\vec{X}, t)...]$.\n",
        "\n",
        "The Euler's Method becomes:\n",
        "\n",
        "$$t_{n+1} = t_n + \\epsilon$$\n",
        "$$\\vec{X_{n+1}} = \\vec{X_n} + \\epsilon \\vec{f}(\\vec{X_n}, t_n)$$\n",
        "\n",
        "Let $\\frac{d\\vec{X}}{dt}=f(\\vec{X},t)$, we want to find $\\vec{X}(t)$ over $t\\in[0,2)$, given that $\\vec{X}(t)=[x,y]$, $\\vec{X}(0)=[1,0]$ and $f(\\vec{X},t) = [x-y,y-x]$."
      ]
    },
    {
      "cell_type": "code",
      "metadata": {
        "id": "wgJ0bOa5TEFt",
        "colab": {
          "base_uri": "https://localhost:8080/",
          "height": 279
        },
        "outputId": "9958bfd6-399b-45c1-9955-a3f0911d5cf6"
      },
      "source": [
        "def f(X,t): # the function f(X,t) now takes a vector X as input\n",
        "    x,y = X # the first and the second elements of X are assigned to x and y\n",
        "    return np.array([x-y,y-x])\n",
        "\n",
        "epsilon = 0.01 # define timestep\n",
        "\n",
        "t = np.arange(0,2,epsilon) # define an array for t\n",
        "X = np.zeros((2,t.shape[0])) # initialize an array for x\n",
        "\n",
        "X[:,0]= [1,0] # set initial condition\n",
        "\n",
        "for i in range(1,t.shape[0]):\n",
        "    X[:,i] = epsilon*f(X[:,i-1],t[i-1])+X[:,i-1] # Euler Integration Step\n",
        "    \n",
        "plt.plot(t[::5],X[0,::5],\".\",label=\"Eulers Solution for x\")\n",
        "plt.plot(t[::5],X[1,::5],\".\",label=\"Eulers Solution for y\")\n",
        "plt.xlabel(\"t\")\n",
        "plt.ylabel(\"x\")\n",
        "plt.legend()\n",
        "plt.show()"
      ],
      "execution_count": null,
      "outputs": [
        {
          "output_type": "display_data",
          "data": {
            "image/png": "[encoded data removed]",
            "text/plain": [
              "<Figure size 432x288 with 1 Axes>"
            ]
          },
          "metadata": {
            "needs_background": "light"
          }
        }
      ]
    },
    {
      "cell_type": "markdown",
      "metadata": {
        "id": "ue-jUvh0TEFu"
      },
      "source": [
        "#### A Generalized function for Euler Integration\n",
        "\n",
        "Here we rewrite the code in a modular fashion and cast the integrator as a function that takes in 3 inputs ie. the function $\\vec{f}(\\vec{y},t)$ where $\\frac{d\\vec{y}}{dt}=f(\\vec{y},t)$, the time array, and initial vector $\\vec{y}_{0}$. We will find this form to be particularly useful when we use TensorFlow functions to code the integrator. Further, it allows us to write multiple integrating functions (for example Euler or RK4) within the same class and call a specific integrator as needed. In addition we also introduce a function to ensure that the correct inputs are given to the integrator failing which an error message is generated. \n",
        "##### Algorithm\n",
        "- Get the required inputs: function $\\vec{f}(\\vec{y},t)$, initial condition vector $\\vec{y}_0$ and time series $t$. Entering a time series $t$ allows for greater control over $\\epsilon$ as it can now vary for each timestep. \n",
        "- Check if the input is of the correct datatype ie. floating point decimal.\n",
        "- Allocate a matrix to hold the output.\n",
        "- At each time step, perform the update $\\vec{y}$ using the Euler method with and store it in the output matrix.\n",
        "- Return the output time series [number of equations $\\times$ iterations] matrix."
      ]
    },
    {
      "cell_type": "code",
      "metadata": {
        "id": "vWoGNBA3TEFu"
      },
      "source": [
        "def check_type(y,t): # Ensure Input is Correct\n",
        "    return y.dtype == np.floating and t.dtype == np.floating\n",
        "\n",
        "class _Integrator():\n",
        "    \n",
        "    def integrate(self,func,y0,t):\n",
        "        time_delta_grid = t[1:] - t[:-1]\n",
        "        \n",
        "        y = np.zeros((y0.shape[0],t.shape[0]))\n",
        "        y[:,0] = y0\n",
        "        \n",
        "        for i in range(time_delta_grid.shape[0]):\n",
        "            y[:,i+1]= time_delta_grid[i]*func(y[:,i],t[i])+y[:,i]\n",
        "        return y\n",
        "\n",
        "def odeint_euler(func,y0,t):\n",
        "    y0 = np.array(y0)\n",
        "    t = np.array(t)\n",
        "    if check_type(y0,t):\n",
        "        return _Integrator().integrate(func,y0,t)\n",
        "    else:\n",
        "        print(\"error encountered\")"
      ],
      "execution_count": null,
      "outputs": []
    },
    {
      "cell_type": "code",
      "metadata": {
        "scrolled": false,
        "id": "_RkGUvGsTEFv",
        "colab": {
          "base_uri": "https://localhost:8080/",
          "height": 314
        },
        "outputId": "f1332fed-6c36-4623-8772-d9e8436da440"
      },
      "source": [
        "solution = odeint_euler(f,[1.,0.],t)\n",
        "\n",
        "plt.plot(t[::5],solution[0,::5],\".\",label=\"Eulers Solution for x\")\n",
        "plt.plot(t[::5],solution[1,::5],\".\",label=\"Eulers Solution for y\")\n",
        "plt.xlabel(\"t\")\n",
        "plt.ylabel(\"X\")\n",
        "plt.legend()\n",
        "plt.show()"
      ],
      "execution_count": null,
      "outputs": [
        {
          "output_type": "stream",
          "text": [
            "/usr/local/lib/python3.7/dist-packages/ipykernel_launcher.py:2: DeprecationWarning: Converting `np.inexact` or `np.floating` to a dtype is deprecated. The current result is `float64` which is not strictly correct.\n",
            "  \n"
          ],
          "name": "stderr"
        },
        {
          "output_type": "display_data",
          "data": {
            "image/png": "[encoded data removed]",
            "text/plain": [
              "<Figure size 432x288 with 1 Axes>"
            ]
          },
          "metadata": {
            "needs_background": "light"
          }
        }
      ]
    },
    {
      "cell_type": "markdown",
      "metadata": {
        "id": "mxp9QNYFTEFw"
      },
      "source": [
        "####  Runge-Kutta Methods for Numerical Integration\n",
        "\n",
        "Euler's method $x_{n+1}=x_n + \\epsilon f(x_n,t_n)$ calculates the solution at $t_{n+1}=t_n+\\epsilon$ given the solution at $t_n$. In doing so we use the derivative at $t_{n}$ though its value may change throughout the interval $[t,t+\\epsilon]$.  This results in an error of the order $\\mathcal{O}(\\epsilon^2)$. By calculating the derivatives at intermediate steps, one can reduce the error at each step. Consider the following second order method where the slope is calculated at $t_{n}$ and $t_n+\\frac{\\epsilon}{2}$.\n",
        "\n",
        "\\begin{eqnarray}k_1=\\epsilon f(x_n,t_n)\\end{eqnarray}\n",
        "\\begin{eqnarray}k_2=\\epsilon f(x_n+\\frac{k_1}{2},t_n+\\frac{\\epsilon}{2})\\end{eqnarray}\n",
        "\\begin{eqnarray}x_{n+1}=x_n+k_2+O(\\epsilon^3)\\end{eqnarray}\n",
        "\n",
        "\n",
        "This method is called the second order Runge-Kutta method or the midpoint method.\n",
        "\n",
        "<img src=\"https://raw.githubusercontent.com/neurorishika/PSST/master/Tutorial/Day%201%20Of%20Numerical%20Integration%20and%20Python/rk2.svg\" width=\"600\"/>\n",
        "\n",
        "Above is a schematic description of the second order Runge-Kutta method. The blue curve denotes a solution of some differential equation. \n",
        "\n",
        "We can reduce errors by calculating additional derivatives. One of the most commonly used integrators is the fourth-order Runge-Kutta Method or RK4 method, that is implemented below:\n",
        "\n",
        "\\begin{eqnarray}k_1=f(x_n,t_n)\\end{eqnarray}\n",
        "\\begin{eqnarray}k_2=f(x_n+\\epsilon\\frac{k_1}{2},t_n+\\frac{\\epsilon}{2})\\end{eqnarray}\n",
        "\\begin{eqnarray}k_3=f(x_n+\\epsilon\\frac{k_2}{2},t_n+\\frac{\\epsilon}{2})\\end{eqnarray}\n",
        "\\begin{eqnarray}k_4=f(x_n+\\epsilon k_3,t_n+\\epsilon)\\end{eqnarray}\n",
        "\\begin{eqnarray}y_{n+1}=y_n+\\frac{\\epsilon}{6}(k_1+2 k_2+2 k_3+k_4)+\\mathcal{O}(\\epsilon^5)\\end{eqnarray}\n",
        "\n",
        "Note that this numerical method is again easily converted to a vector algorithm by simply replacing $x_i$ by the vector $\\vec{X_i}$. We will use this method to simulate networks of neurons.\n",
        "\n",
        "#### Generalized RK4 Method in Python\n",
        "\n",
        "We can now modify the Euler Integration code implemented earlier with a generalized function for RK4 that takes three inputs - the function $f(\\vec{y},t)$, where $\\frac{d\\vec{y}}{dt}=f(\\vec{y},t)$, the time array, and an initial vector $\\vec{y_0}$. The code can be updated as follows,\n",
        "\n"
      ]
    },
    {
      "cell_type": "code",
      "metadata": {
        "scrolled": true,
        "id": "3YICKdWmTEFx",
        "colab": {
          "base_uri": "https://localhost:8080/",
          "height": 314
        },
        "outputId": "cb625013-9814-4358-bbab-76a9cee4a293"
      },
      "source": [
        "def check_type(y,t): # Ensure Input is Correct\n",
        "    return y.dtype == np.floating and t.dtype == np.floating\n",
        "\n",
        "class _Integrator():\n",
        "    \n",
        "    def integrate(self,func,y0,t):\n",
        "        time_delta_grid = t[1:] - t[:-1]\n",
        "        \n",
        "        y = np.zeros((y0.shape[0],t.shape[0]))\n",
        "        y[:,0] = y0\n",
        "\n",
        "        for i in range(time_delta_grid.shape[0]):\n",
        "            k1 = func(y[:,i], t[i])# RK4 Integration Steps replace Euler's Updation Steps\n",
        "            half_step = t[i] + time_delta_grid[i] / 2\n",
        "            k2 = func(y[:,i] + time_delta_grid[i] * k1 / 2, half_step)\n",
        "            k3 = func(y[:,i] + time_delta_grid[i] * k2 / 2, half_step)\n",
        "            k4 = func(y[:,i] + time_delta_grid[i] * k3, t + time_delta_grid[i])\n",
        "            y[:,i+1]= (k1 + 2 * k2 + 2 * k3 + k4) * (time_delta_grid[i] / 6) + y[:,i]\n",
        "        return y\n",
        "\n",
        "def odeint_rk4(func,y0,t):\n",
        "    y0 = np.array(y0)\n",
        "    t = np.array(t)\n",
        "    if check_type(y0,t):\n",
        "        return _Integrator().integrate(func,y0,t)\n",
        "    else:\n",
        "        print(\"error encountered\")\n",
        "\n",
        "solution = odeint_rk4(f,[1.,0.],t)\n",
        "\n",
        "plt.plot(t[::5],solution[0,::5],\".\",label=\"RK4 Solution for x\")\n",
        "plt.plot(t[::5],solution[1,::5],\".\",label=\"RK4 Solution for y\")\n",
        "plt.xlabel(\"t\")\n",
        "plt.ylabel(\"X\")\n",
        "plt.legend()\n",
        "plt.show()"
      ],
      "execution_count": null,
      "outputs": [
        {
          "output_type": "stream",
          "text": [
            "/usr/local/lib/python3.7/dist-packages/ipykernel_launcher.py:2: DeprecationWarning: Converting `np.inexact` or `np.floating` to a dtype is deprecated. The current result is `float64` which is not strictly correct.\n",
            "  \n"
          ],
          "name": "stderr"
        },
        {
          "output_type": "display_data",
          "data": {
            "image/png": "[encoded data removed]",
            "text/plain": [
              "<Figure size 432x288 with 1 Axes>"
            ]
          },
          "metadata": {
            "needs_background": "light"
          }
        }
      ]
    },
    {
      "cell_type": "markdown",
      "metadata": {
        "id": "3NbRtJaRTEFy"
      },
      "source": [
        "**Exercise**, Solve the differential equations describing the dynamics of a simple pendulum the using Euler and RK4 methods. The equation of motion of a simple pendulum is given by: \n",
        "\\begin{eqnarray}\\frac{d^2s}{dt^2}=L\\frac{d^2\\theta}{dt^2}=-g\\sin{\\theta}\\end{eqnarray}\n",
        "where $L$ = Length of String and $\\theta$ = angle made with vertical. This second order differential equation may be written as two first order coupled equations as follows:\n",
        "\\begin{eqnarray}\\frac{d\\theta}{dt}=\\omega\\end{eqnarray}\n",
        "\\begin{eqnarray}\\frac{d\\omega}{dt}=-\\frac{g}{L}\\sin{\\theta}\\end{eqnarray}"
      ]
    }
  ]
}